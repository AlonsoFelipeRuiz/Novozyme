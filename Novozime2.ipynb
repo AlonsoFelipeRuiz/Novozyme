{
 "cells": [
  {
   "cell_type": "code",
   "execution_count": 21,
   "metadata": {},
   "outputs": [],
   "source": [
    "from Bio import SeqIO\n",
    "import pandas as pd\n",
    "import numpy as np\n",
    "from Bio.SeqUtils.ProtParam import ProteinAnalysis\n",
    "from Bio.SeqUtils.ProtParam import ProtParamData\n",
    "from quantiprot.metrics.aaindex import get_aa2volume, get_aa2hydropathy\n",
    "from quantiprot.metrics.basic import average\n",
    "import difflib\n",
    "from sklearn.feature_extraction.text import CountVectorizer as CVec\n",
    "\n"
   ]
  },
  {
   "cell_type": "code",
   "execution_count": null,
   "metadata": {},
   "outputs": [],
   "source": [
    "from tf.keras.models import Sequential\n",
    "from tf.keras.layers import Dense, Conv1D, MaxPooling1D,AveragePooling1D, Flatten,AtrousConvolution1D,SpatialDropout1D, Dropout, GlobalAveragePooling1D,GlobalMaxPooling1D\n",
    "from tfkeras.layers.normalization import BatchNormalization\n",
    "\n",
    "from tf.keras.layers import LSTM\n",
    "from tf.keras.layers.embeddings import Embedding\n",
    "\n",
    "# https://machinelearningmastery.com/how-to-stop-training-deep-neural-networks-at-the-right-time-using-early-stopping/\n",
    "from tf.keras.callbacks import EarlyStopping\n",
    "\n",
    "from tf.keras.preprocessing import text, sequence\n",
    "from tf.keras.preprocessing.text import Tokenizer\n",
    "from tfsklearn.model_selection import train_test_split"
   ]
  },
  {
   "cell_type": "code",
   "execution_count": 15,
   "metadata": {},
   "outputs": [],
   "source": [
    "df_training_peptides=pd.read_csv(\"training_analized_complete.csv\", index_col=\"seq_id\")[[\"protein_sequence\", \"length\", \"tm\"]]"
   ]
  },
  {
   "cell_type": "code",
   "execution_count": 13,
   "metadata": {},
   "outputs": [],
   "source": [
    "df_test_peptides=pd.read_csv(\"test_analized_complete_2.csv\", index_col=\"seq_id\")[[\"protein_sequence\", \"length\"]]"
   ]
  },
  {
   "cell_type": "code",
   "execution_count": 16,
   "metadata": {},
   "outputs": [
    {
     "name": "stdout",
     "output_type": "stream",
     "text": [
      "838.0\n"
     ]
    },
    {
     "data": {
      "text/plain": [
       "count    31390.000000\n",
       "mean       447.669513\n",
       "std        640.728935\n",
       "min          5.000000\n",
       "25%        197.000000\n",
       "50%        336.000000\n",
       "75%        523.000000\n",
       "max      32767.000000\n",
       "Name: length, dtype: float64"
      ]
     },
     "execution_count": 16,
     "metadata": {},
     "output_type": "execute_result"
    }
   ],
   "source": [
    "print(df_training_peptides.length.quantile(0.9))\n",
    "df_training_peptides.length.describe()"
   ]
  },
  {
   "cell_type": "code",
   "execution_count": 17,
   "metadata": {},
   "outputs": [
    {
     "name": "stdout",
     "output_type": "stream",
     "text": [
      "221.0\n"
     ]
    },
    {
     "data": {
      "text/plain": [
       "count    2413.000000\n",
       "mean      220.968090\n",
       "std         0.175798\n",
       "min       220.000000\n",
       "25%       221.000000\n",
       "50%       221.000000\n",
       "75%       221.000000\n",
       "max       221.000000\n",
       "Name: length, dtype: float64"
      ]
     },
     "execution_count": 17,
     "metadata": {},
     "output_type": "execute_result"
    }
   ],
   "source": [
    "print(df_test_peptides.length.quantile(0.9))\n",
    "df_test_peptides.length.describe()"
   ]
  },
  {
   "cell_type": "code",
   "execution_count": 18,
   "metadata": {},
   "outputs": [],
   "source": [
    "df_training_peptides=df_training_peptides[df_training_peptides[\"length\"]<838]"
   ]
  },
  {
   "cell_type": "code",
   "execution_count": null,
   "metadata": {},
   "outputs": [],
   "source": [
    "# maximum length of sequence, everything afterwards is discarded! Default 256\n",
    "# max_length = 256\n",
    "max_length = 350\n",
    "\n",
    "#create and fit tokenizer\n",
    "tokenizer = Tokenizer(char_level=True)\n",
    "tokenizer.fit_on_texts(seqs)\n",
    "#represent input data as word rank number sequences\n",
    "X = tokenizer.texts_to_sequences(seqs)\n",
    "X = sequence.pad_sequences(X, maxlen=max_length)"
   ]
  }
 ],
 "metadata": {
  "kernelspec": {
   "display_name": "Python 3",
   "language": "python",
   "name": "python3"
  },
  "language_info": {
   "codemirror_mode": {
    "name": "ipython",
    "version": 3
   },
   "file_extension": ".py",
   "mimetype": "text/x-python",
   "name": "python",
   "nbconvert_exporter": "python",
   "pygments_lexer": "ipython3",
   "version": "3.8.5"
  }
 },
 "nbformat": 4,
 "nbformat_minor": 4
}
